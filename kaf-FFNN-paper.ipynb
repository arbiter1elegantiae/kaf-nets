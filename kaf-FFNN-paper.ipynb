{
 "nbformat": 4,
 "nbformat_minor": 2,
 "metadata": {
  "language_info": {
   "name": "python",
   "codemirror_mode": {
    "name": "ipython",
    "version": 3
   },
   "version": "3.6.9-final"
  },
  "orig_nbformat": 2,
  "file_extension": ".py",
  "mimetype": "text/x-python",
  "name": "python",
  "npconvert_exporter": "python",
  "pygments_lexer": "ipython3",
  "version": 3,
  "kernelspec": {
   "name": "python36964bit10a78e958145471eb828d93cf209b5aa",
   "display_name": "Python 3.6.9 64-bit"
  }
 },
 "cells": [
  {
   "cell_type": "code",
   "execution_count": 2,
   "metadata": {},
   "outputs": [],
   "source": [
    "# Import TensorFlow\n",
    "import numpy as np\n",
    "import tensorflow as tf\n",
    "\n",
    "# Keras imports\n",
    "from tensorflow.keras import datasets\n",
    "from tensorflow.keras.models import Sequential\n",
    "from tensorflow.keras.layers import Dense\n",
    "\n",
    "# Custom imports\n",
    "from kaf import Kaf\n",
    "import tqdm"
   ]
  },
  {
   "cell_type": "code",
   "execution_count": 3,
   "metadata": {},
   "outputs": [
    {
     "output_type": "stream",
     "name": "stdout",
     "text": "Downloading data from https://storage.googleapis.com/tensorflow/tf-keras-datasets/boston_housing.npz\n57344/57026 [==============================] - 0s 1us/step\n"
    }
   ],
   "source": [
    "# Load Breast Cancer dataset\n",
    "(X_train, y_train), (X_test, y_test) = datasets.boston_housing.load_data()"
   ]
  },
  {
   "cell_type": "code",
   "execution_count": 5,
   "metadata": {},
   "outputs": [],
   "source": [
    "# Initialize a KAF neural network\n",
    "kafnet = Sequential([\n",
    "    Dense(20, input_shape=(13,)),\n",
    "    Kaf(20),\n",
    "    Dense(1),\n",
    "])"
   ]
  },
  {
   "cell_type": "code",
   "execution_count": 6,
   "metadata": {},
   "outputs": [],
   "source": [
    "# Use tf.data DataLoader\n",
    "train_data = tf.data.Dataset.from_tensor_slices((X_train.astype(np.float32), y_train.reshape(-1, 1)))\n",
    "test_data = tf.data.Dataset.from_tensor_slices((X_test.astype(np.float32), y_test.astype(np.float32).reshape(-1, 1)))"
   ]
  },
  {
   "cell_type": "code",
   "execution_count": 9,
   "metadata": {},
   "outputs": [],
   "source": [
    "from tensorflow.keras import losses, optimizers, metrics\n",
    "\n",
    "opt = optimizers.Adam()"
   ]
  },
  {
   "cell_type": "code",
   "execution_count": 12,
   "metadata": {},
   "outputs": [
    {
     "output_type": "stream",
     "name": "stderr",
     "text": "Training: 100%|██████████| 300/300 [00:44<00:00,  6.70it/s]\n"
    }
   ],
   "source": [
    "\n",
    "# training\n",
    "for e in tqdm.trange(300, desc='Training'):\n",
    "\n",
    "    for xb, yb in train_data.shuffle(1000).batch(32):\n",
    "\n",
    "            with tf.GradientTape() as tape:\n",
    "                loss = tf.losses.mean_squared_error(yb, kafnet(xb))\n",
    "            g = tape.gradient(loss, kafnet.variables)\n",
    "            opt.apply_gradients(zip(g, kafnet.variables))"
   ]
  },
  {
   "cell_type": "code",
   "execution_count": 14,
   "metadata": {},
   "outputs": [
    {
     "output_type": "stream",
     "name": "stdout",
     "text": "Final error is: tf.Tensor(30.18629, shape=(), dtype=float32)\n"
    }
   ],
   "source": [
    "# Evaluation\n",
    "err = tf.metrics.Mean()\n",
    "for xb, yb in test_data.batch(32):\n",
    "    err((yb - kafnet(xb))**2)\n",
    "print('Final error is: ' + str(err.result()))"
   ]
  }
 ]
}