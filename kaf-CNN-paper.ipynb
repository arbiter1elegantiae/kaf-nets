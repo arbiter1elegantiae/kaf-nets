{
 "nbformat": 4,
 "nbformat_minor": 2,
 "metadata": {
  "language_info": {
   "name": "python",
   "codemirror_mode": {
    "name": "ipython",
    "version": 3
   },
   "version": "3.6.9-final"
  },
  "orig_nbformat": 2,
  "file_extension": ".py",
  "mimetype": "text/x-python",
  "name": "python",
  "npconvert_exporter": "python",
  "pygments_lexer": "ipython3",
  "version": 3,
  "kernelspec": {
   "name": "python36964bit10a78e958145471eb828d93cf209b5aa",
   "display_name": "Python 3.6.9 64-bit"
  }
 },
 "cells": [
  {
   "cell_type": "code",
   "execution_count": 1,
   "metadata": {},
   "outputs": [],
   "source": [
    "\"\"\"\n",
    "Simple demo using kernel activation functions with convolutional networks on the MNIST dataset.\n",
    "\"\"\"\n",
    "\n",
    "# Import TensorFlow\n",
    "import numpy as np\n",
    "import tensorflow as tf"
   ]
  },
  {
   "cell_type": "code",
   "execution_count": 2,
   "metadata": {},
   "outputs": [],
   "source": [
    "# Keras imports\n",
    "from tensorflow.keras import datasets\n",
    "from tensorflow.keras.models import Sequential\n",
    "from tensorflow.keras.layers import Dense, Conv2D, MaxPooling2D, Flatten\n",
    "\n",
    "# Custom imports\n",
    "from kaf import Kaf\n",
    "import tqdm"
   ]
  },
  {
   "cell_type": "code",
   "execution_count": 3,
   "metadata": {},
   "outputs": [],
   "source": [
    "# Load Breast Cancer dataset\n",
    "(X_train, y_train), (X_test, y_test) = datasets.mnist.load_data()\n",
    "\n",
    "# Preprocessing is taken from here:\n",
    "# https://github.com/keras-team/keras/blob/master/examples/mnist_cnn.py\n",
    "X_train = X_train.reshape(X_train.shape[0], 28, 28, 1)\n",
    "X_test = X_test.reshape(X_test.shape[0], 28, 28, 1)\n",
    "    \n",
    "X_train = X_train.astype('float32')\n",
    "X_test = X_test.astype('float32')\n",
    "X_train /= 255\n",
    "X_test /= 255"
   ]
  },
  {
   "cell_type": "code",
   "execution_count": 4,
   "metadata": {},
   "outputs": [],
   "source": [
    "# Initialize a KAF neural network\n",
    "kafnet = Sequential()\n",
    "kafnet.add(Conv2D(32, (3, 3), input_shape=(28, 28, 1)))\n",
    "kafnet.add(Kaf(20, conv=True))\n",
    "kafnet.add(Conv2D(32, (3, 3)))\n",
    "kafnet.add(Kaf(20, conv=True))\n",
    "kafnet.add(MaxPooling2D(pool_size=(2, 2)))\n",
    "kafnet.add(Flatten())\n",
    "kafnet.add(Dense(100))\n",
    "kafnet.add(Kaf(20))\n",
    "kafnet.add(Dense(10, activation='softmax'))"
   ]
  },
  {
   "cell_type": "code",
   "execution_count": 5,
   "metadata": {},
   "outputs": [],
   "source": [
    "# Use tf.data DataLoader\n",
    "train_data = tf.data.Dataset.from_tensor_slices((X_train.astype(np.float32), y_train.astype(np.int64)))\n",
    "test_data = tf.data.Dataset.from_tensor_slices((X_test.astype(np.float32), y_test.astype(np.int64)))"
   ]
  },
  {
   "cell_type": "code",
   "execution_count": 6,
   "metadata": {},
   "outputs": [
    {
     "output_type": "stream",
     "name": "stdout",
     "text": "(2, 28, 28, 1)\ntf.Tensor([5 0], shape=(2,), dtype=int64)\n"
    }
   ],
   "source": [
    "for xb, yb in train_data.batch(2):\n",
    "    print(xb.shape)\n",
    "    print(yb)\n",
    "    break"
   ]
  },
  {
   "cell_type": "code",
   "execution_count": 7,
   "metadata": {},
   "outputs": [
    {
     "output_type": "execute_result",
     "data": {
      "text/plain": "<tf.Tensor: shape=(2, 10), dtype=float32, numpy=\narray([[0.09273768, 0.09322744, 0.0816758 , 0.1127829 , 0.10692486,\n        0.11193405, 0.10395886, 0.103797  , 0.09738449, 0.09557692],\n       [0.09273721, 0.09322833, 0.0816756 , 0.11278369, 0.10692544,\n        0.11193448, 0.10395861, 0.10379672, 0.09738383, 0.09557612]],\n      dtype=float32)>"
     },
     "metadata": {},
     "execution_count": 7
    }
   ],
   "source": [
    "kafnet(xb)"
   ]
  },
  {
   "cell_type": "code",
   "execution_count": 14,
   "metadata": {},
   "outputs": [],
   "source": [
    "# Optimizer\n",
    "from tensorflow.keras import losses, optimizers, metrics\n",
    "\n",
    "opt = optimizers.Adam()\n",
    "loss = losses.SparseCategoricalCrossentropy()\n",
    "\n",
    "\n",
    "kafnet.compile(optimizer=opt, loss=loss)"
   ]
  },
  {
   "cell_type": "code",
   "execution_count": 15,
   "metadata": {},
   "outputs": [
    {
     "output_type": "stream",
     "name": "stdout",
     "text": "Train for 1875 steps\nEpoch 1/5\n1875/1875 [==============================] - 379s 202ms/step - loss: 0.5733\nEpoch 2/5\n1875/1875 [==============================] - 385s 205ms/step - loss: 0.1171\nEpoch 3/5\n1875/1875 [==============================] - 389s 208ms/step - loss: 0.0771\nEpoch 4/5\n1875/1875 [==============================] - 385s 205ms/step - loss: 0.0566\nEpoch 5/5\n1875/1875 [==============================] - 378s 201ms/step - loss: 0.0428\n"
    }
   ],
   "source": [
    "# Training\n",
    "history = kafnet.fit(train_data.shuffle(1000).batch(32), epochs=5)"
   ]
  },
  {
   "cell_type": "code",
   "execution_count": 18,
   "metadata": {},
   "outputs": [
    {
     "output_type": "stream",
     "name": "stdout",
     "text": "Test accuracy after epoch {} is: tf.Tensor(0.9766, shape=(), dtype=float32)\n"
    }
   ],
   "source": [
    "# Evaluation\n",
    "acc = tf.metrics.Accuracy()\n",
    "for xb, yb in test_data.batch(32):\n",
    "    acc(yb, tf.argmax(kafnet(xb), axis=1))\n",
    "print('Test accuracy after epoch {} is: '+ str(acc.result()))"
   ]
  },
  {
   "cell_type": "code",
   "execution_count": null,
   "metadata": {},
   "outputs": [],
   "source": []
  }
 ]
}