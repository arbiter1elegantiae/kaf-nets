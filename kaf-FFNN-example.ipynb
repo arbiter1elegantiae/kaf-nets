{
 "nbformat": 4,
 "nbformat_minor": 2,
 "metadata": {
  "language_info": {
   "name": "python",
   "codemirror_mode": {
    "name": "ipython",
    "version": 3
   },
   "version": "3.6.9-final"
  },
  "orig_nbformat": 2,
  "file_extension": ".py",
  "mimetype": "text/x-python",
  "name": "python",
  "npconvert_exporter": "python",
  "pygments_lexer": "ipython3",
  "version": 3,
  "kernelspec": {
   "name": "python36964bit10a78e958145471eb828d93cf209b5aa",
   "display_name": "Python 3.6.9 64-bit"
  }
 },
 "cells": [
  {
   "cell_type": "markdown",
   "metadata": {},
   "source": [
    "# Copy and paste of the notebook's lab on FFNN w/ Addition of a Kaf Layer\n",
    "* Taken from the course: \"Neural Networks for Data Science Applications a.a. 19-20 Sapienza Univerisy of Rome\"\n",
    "* Accuracy improvements gained thanks to kafs\n",
    "* Note, this notebook requires the SUSY dataset in the working folder (https://archive.ics.uci.edu/ml/datasets/SUSY)"
   ]
  },
  {
   "cell_type": "code",
   "execution_count": 1,
   "metadata": {},
   "outputs": [],
   "source": [
    "import tensorflow as tf\n",
    "import numpy as np\n",
    "import pandas as pd\n",
    "\n",
    "from kaf import Kaf # local source\n",
    ""
   ]
  },
  {
   "cell_type": "code",
   "execution_count": 2,
   "metadata": {},
   "outputs": [
    {
     "output_type": "execute_result",
     "data": {
      "text/plain": "<tf.Tensor: shape=(3, 10), dtype=float32, numpy=\narray([[-4.2984564e-02,  3.7445154e-02, -7.9597086e-02,  2.4790630e-02,\n        -5.1283002e-02,  6.0842138e-02, -4.2399783e-02,  2.4390133e-02,\n        -1.4805279e-05,  8.4657788e-02],\n       [ 2.4514697e-03,  6.1873361e-02, -8.4410638e-02,  1.1055615e-02,\n        -8.2367964e-02,  6.0414318e-02,  6.7392655e-04,  3.5295114e-03,\n         2.3100324e-02,  2.7735978e-02],\n       [-4.4142682e-02,  3.9227179e-04, -3.2701310e-02,  3.0161624e-04,\n        -7.0682101e-02,  1.9684648e-03,  4.4078249e-03,  1.6381934e-02,\n        -1.1540288e-02,  1.8637761e-03]], dtype=float32)>"
     },
     "metadata": {},
     "execution_count": 2
    }
   ],
   "source": [
    "# Sanity check \n",
    "\n",
    "#x = tf.random.uniform(shape=(3,28,28,3), minval=-20, maxval=40, dtype=tf.float32)\n",
    "x = tf.random.uniform(shape=(3,10), minval=-20, maxval=40, dtype=tf.float32)\n",
    "\n",
    "#kaf = Kaf(5, conv=True)\n",
    "kaf = Kaf(5)\n",
    "kaf(x)\n",
    ""
   ]
  },
  {
   "cell_type": "code",
   "execution_count": 3,
   "metadata": {},
   "outputs": [],
   "source": [
    "# Import SUSY Dataset used during the lab of NNfDS\n",
    "\n",
    "import pandas as pd\n",
    "\n",
    "susy = pd.read_csv('SUSY.csv', header=None)\n",
    "X = susy.values[0:100000, 1:].astype(np.float32) # Note the casting to float32\n",
    "y = susy.values[0:100000, 0:1]\n",
    "\n",
    "train_susy = tf.data.Dataset.from_tensor_slices((X, y))"
   ]
  },
  {
   "cell_type": "code",
   "execution_count": 4,
   "metadata": {},
   "outputs": [],
   "source": [
    "from tensorflow.keras.layers import Dense\n",
    "from tensorflow.keras import Sequential\n",
    "\n",
    "def build_model():\n",
    "  net = Sequential()\n",
    "  net.add(Dense(50))\n",
    "  net.add(Kaf(30))\n",
    "  net.add(Dense(1, activation='sigmoid'))\n",
    "  return net"
   ]
  },
  {
   "cell_type": "code",
   "execution_count": 5,
   "metadata": {},
   "outputs": [],
   "source": [
    "net = build_model()"
   ]
  },
  {
   "cell_type": "code",
   "execution_count": 6,
   "metadata": {},
   "outputs": [],
   "source": [
    "from tensorflow.keras import losses, optimizers, metrics\n",
    "\n",
    "net.compile(optimizer=optimizers.Adam(), loss=losses.BinaryCrossentropy(), \n",
    "           metrics = [\n",
    "               metrics.BinaryAccuracy(),\n",
    "               metrics.AUC()\n",
    "           ])"
   ]
  },
  {
   "cell_type": "code",
   "execution_count": 7,
   "metadata": {},
   "outputs": [
    {
     "output_type": "stream",
     "name": "stdout",
     "text": "Train for 1563 steps\nEpoch 1/3\n1563/1563 [==============================] - 12s 8ms/step - loss: 0.4739 - binary_accuracy: 0.7762 - auc: 0.8457\nEpoch 2/3\n1563/1563 [==============================] - 13s 8ms/step - loss: 0.4438 - binary_accuracy: 0.7946 - auc: 0.8653\nEpoch 3/3\n1563/1563 [==============================] - 13s 8ms/step - loss: 0.4407 - binary_accuracy: 0.7958 - auc: 0.8671\n"
    }
   ],
   "source": [
    "history = net.fit(train_susy.shuffle(1000).batch(64), epochs=3)"
   ]
  },
  {
   "cell_type": "code",
   "execution_count": 8,
   "metadata": {},
   "outputs": [
    {
     "output_type": "stream",
     "name": "stdout",
     "text": "Model: \"sequential\"\n_________________________________________________________________\nLayer (type)                 Output Shape              Param #   \n=================================================================\ndense (Dense)                multiple                  950       \n_________________________________________________________________\nkaf_1 (Kaf)                  multiple                  1500      \n_________________________________________________________________\ndense_1 (Dense)              multiple                  51        \n=================================================================\nTotal params: 2,501\nTrainable params: 2,501\nNon-trainable params: 0\n_________________________________________________________________\n"
    }
   ],
   "source": [
    "net.summary()"
   ]
  },
  {
   "cell_type": "code",
   "execution_count": 9,
   "metadata": {},
   "outputs": [],
   "source": [
    "# We use a separate set of 100k values\n",
    "Xtest = susy.values[100000:200000, 1:].astype(np.float32)\n",
    "ytest = susy.values[100000:200000, 0:1]"
   ]
  },
  {
   "cell_type": "code",
   "execution_count": 10,
   "metadata": {},
   "outputs": [],
   "source": [
    "test_susy = tf.data.Dataset.from_tensor_slices((Xtest, ytest))"
   ]
  },
  {
   "cell_type": "code",
   "execution_count": 11,
   "metadata": {},
   "outputs": [],
   "source": [
    "# We remove the last dimension from y\n",
    "test_susy = tf.data.Dataset.from_tensor_slices((Xtest, \n",
    "                                                ytest.reshape(-1)))"
   ]
  },
  {
   "cell_type": "code",
   "execution_count": 12,
   "metadata": {},
   "outputs": [
    {
     "output_type": "stream",
     "name": "stdout",
     "text": "3125/3125 [==============================] - 16s 5ms/step - loss: 0.4356 - binary_accuracy: 0.7997 - auc: 0.8711\n"
    },
    {
     "output_type": "execute_result",
     "data": {
      "text/plain": "[0.4355582052183151, 0.79975, 0.8710929]"
     },
     "metadata": {},
     "execution_count": 12
    }
   ],
   "source": [
    "# Better score than during the lab session!\n",
    "net.evaluate(test_susy.batch(32))"
   ]
  }
 ]
}