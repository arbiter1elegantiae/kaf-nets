{
 "nbformat": 4,
 "nbformat_minor": 2,
 "metadata": {
  "language_info": {
   "name": "python",
   "codemirror_mode": {
    "name": "ipython",
    "version": 3
   },
   "version": "3.6.9-final"
  },
  "orig_nbformat": 2,
  "file_extension": ".py",
  "mimetype": "text/x-python",
  "name": "python",
  "npconvert_exporter": "python",
  "pygments_lexer": "ipython3",
  "version": 3,
  "kernelspec": {
   "name": "python36964bit39feeb08e8c744b2ac55fad1515a5f28",
   "display_name": "Python 3.6.9 64-bit"
  }
 },
 "cells": [
  {
   "cell_type": "code",
   "execution_count": 1,
   "metadata": {},
   "outputs": [],
   "source": [
    "# Main import\n",
    "import tensorflow as tf \n",
    "import numpy as np \n",
    "import pandas as pd \n",
    "\n",
    "# Local module\n",
    "import kafnet as Kaf "
   ]
  },
  {
   "cell_type": "code",
   "execution_count": 6,
   "metadata": {},
   "outputs": [],
   "source": [
    "# Import the dataset, inspired from https://towardsdatascience.com/cifar-10-image-classification-in-tensorflow-5b501f7dc77c\n",
    "\n",
    "import pickle\n",
    "\n",
    "def load_cfar10_batch(cifar10_dataset_folder_path):\n",
    "\n",
    "    features = []\n",
    "    labels = []\n",
    "\n",
    "    for i in range(1,6):\n",
    "        with open(cifar10_dataset_folder_path + '/data_batch_' + str(i), mode='rb') as file:\n",
    "            # note the encoding type is 'latin1'\n",
    "            batch = pickle.load(file, encoding='latin1')\n",
    "        \n",
    "        features.append(batch['data'].reshape((len(batch['data']), 3, 32, 32)).transpose(0, 2, 3, 1))    \n",
    "        labels.append(batch['labels'])\n",
    "        \n",
    "    return tf.stack(features), tf.stack(labels)\n",
    "\n",
    "train_X, train_y = load_cfar10_batch('../cifar-10-batches-py')"
   ]
  },
  {
   "cell_type": "code",
   "execution_count": 7,
   "metadata": {},
   "outputs": [
    {
     "output_type": "execute_result",
     "data": {
      "text/plain": "TensorShape([5, 10000, 32, 32, 3])"
     },
     "metadata": {},
     "execution_count": 7
    }
   ],
   "source": [
    "train_X.shape"
   ]
  },
  {
   "cell_type": "code",
   "execution_count": 9,
   "metadata": {},
   "outputs": [],
   "source": [
    "with open('../cifar-10-batches-py/test_batch', mode='rb') as file:\n",
    "    test = pickle.load(file, encoding='latin1')\n",
    "    text_X = tf.stack(test['data'].reshape((len(test['data']), 3, 32, 32)).transpose(0, 2, 3, 1))\n",
    "    test_y = tf.stack(test['labels'])"
   ]
  },
  {
   "cell_type": "code",
   "execution_count": 10,
   "metadata": {},
   "outputs": [
    {
     "output_type": "stream",
     "name": "stdout",
     "text": "(10000, 32, 32, 3)\n"
    },
    {
     "output_type": "execute_result",
     "data": {
      "text/plain": "TensorShape([10000])"
     },
     "metadata": {},
     "execution_count": 10
    }
   ],
   "source": [
    "print(text_X.shape)\n",
    "test_y.shape"
   ]
  },
  {
   "cell_type": "code",
   "execution_count": 11,
   "metadata": {},
   "outputs": [],
   "source": [
    "# TODO:\n",
    "# CONCATENATE ALL THE BATCHES PER TRAIN_X,y\n",
    "# NORMALIZZARE I DATI (CON TENSORFLOW)\n",
    "# CONSTRUIRE UNA CNN CON SEQUENTIAL COME SUL PAPER\n",
    "# COSTRUIRE UNA KCNN ELU COME SUL PAPER"
   ]
  },
  {
   "cell_type": "code",
   "execution_count": null,
   "metadata": {},
   "outputs": [],
   "source": []
  }
 ]
}