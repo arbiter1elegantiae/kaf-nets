{
 "nbformat": 4,
 "nbformat_minor": 2,
 "metadata": {
  "language_info": {
   "name": "python",
   "codemirror_mode": {
    "name": "ipython",
    "version": 3
   },
   "version": "3.6.9-final"
  },
  "orig_nbformat": 2,
  "file_extension": ".py",
  "mimetype": "text/x-python",
  "name": "python",
  "npconvert_exporter": "python",
  "pygments_lexer": "ipython3",
  "version": 3,
  "kernelspec": {
   "name": "python36964bit10a78e958145471eb828d93cf209b5aa",
   "display_name": "Python 3.6.9 64-bit"
  }
 },
 "cells": [
  {
   "cell_type": "code",
   "execution_count": 3,
   "metadata": {},
   "outputs": [],
   "source": [
    "import tensorflow as tf\n",
    "import numpy as np"
   ]
  },
  {
   "cell_type": "code",
   "execution_count": 50,
   "metadata": {},
   "outputs": [],
   "source": [
    "def dictionaryGen(D):\n",
    "    \n",
    "    \"\"\" Generate and return \n",
    "        - D integers on the x axis evenly distributed around 0 (??? w/ abs value \\leq 100 ???)\n",
    "        - The step size Δx \"\"\"\n",
    "\n",
    "    d_pos = np.linspace(0, 100, num= int(D/2)+1, endpoint=False, retstep=True, dtype=np.float32)\n",
    "    d_neg = (-1*d_pos[0][1:]) # get the negative dictionary points  \n",
    "    return (d_pos[1], np.concatenate((np.sort(d_neg), d_pos[0][1:]), axis=None))\n",
    "\n",
    "\n",
    "def gaussianKer1D(s, d_i, b_width):\n",
    "\n",
    "    \"\"\" Compute 1D Gaussian kernel as defined in arXiv:1707.04035 \"\"\"\n",
    "    \n",
    "    x = np.power((s - d_i), 2)\n",
    "    return np.exp(-b_width*x)"
   ]
  },
  {
   "cell_type": "code",
   "execution_count": 51,
   "metadata": {},
   "outputs": [
    {
     "output_type": "stream",
     "name": "stdout",
     "text": "tf.Tensor(1.5219958883602659e-06, shape=(), dtype=float64)\n"
    },
    {
     "output_type": "execute_result",
     "data": {
      "text/plain": "array([1.52199589e-006, 5.71087128e-157])"
     },
     "metadata": {},
     "execution_count": 51
    }
   ],
   "source": [
    "print(tf.reduce_sum(gaussianKer1D(np.array([13.53]), np.array([20, -20]), 0.32)))\n",
    "gaussianKer1D(np.array([13.53]), np.array([20, -20]), 0.32)"
   ]
  },
  {
   "cell_type": "code",
   "execution_count": 52,
   "metadata": {},
   "outputs": [
    {
     "output_type": "execute_result",
     "data": {
      "text/plain": "<tf.Tensor: shape=(50,), dtype=float32, numpy=\narray([-96.15385  , -92.30769  , -88.46154  , -84.61539  , -80.76923  ,\n       -76.92308  , -73.07692  , -69.23077  , -65.38461  , -61.53846  ,\n       -57.692307 , -53.846153 , -50.       , -46.153847 , -42.307693 ,\n       -38.46154  , -34.615383 , -30.76923  , -26.923077 , -23.076923 ,\n       -19.23077  , -15.384615 , -11.538462 ,  -7.6923075,  -3.8461537,\n         3.8461537,   7.6923075,  11.538462 ,  15.384615 ,  19.23077  ,\n        23.076923 ,  26.923077 ,  30.76923  ,  34.615383 ,  38.46154  ,\n        42.307693 ,  46.153847 ,  50.       ,  53.846153 ,  57.692307 ,\n        61.53846  ,  65.38461  ,  69.23077  ,  73.07692  ,  76.92308  ,\n        80.76923  ,  84.61539  ,  88.46154  ,  92.30769  ,  96.15385  ],\n      dtype=float32)>"
     },
     "metadata": {},
     "execution_count": 52
    }
   ],
   "source": [
    "step, d = dictionaryGen(50)\n",
    "tf.constant(d)"
   ]
  },
  {
   "cell_type": "code",
   "execution_count": 128,
   "metadata": {},
   "outputs": [
    {
     "output_type": "error",
     "ename": "SyntaxError",
     "evalue": "invalid syntax (<ipython-input-128-2328c1f9dd38>, line 5)",
     "traceback": [
      "\u001b[0;36m  File \u001b[0;32m\"<ipython-input-128-2328c1f9dd38>\"\u001b[0;36m, line \u001b[0;32m5\u001b[0m\n\u001b[0;31m    def __init__(self, n_neurons, D).__init__()\u001b[0m\n\u001b[0m                                    ^\u001b[0m\n\u001b[0;31mSyntaxError\u001b[0m\u001b[0;31m:\u001b[0m invalid syntax\n"
     ]
    }
   ],
   "source": [
    "from tensorflow.keras.layers import Layer\n",
    "\n",
    "class Kaf(Layer):\n",
    "\n",
    "    def __init__(self, D, **kwargs):\n",
    "\n",
    "        super(Kaf, self).__init__()\n",
    "        \n",
    "        # Initialize constants\n",
    "        self.D = D\n",
    "        step, dict = dictionaryGen(D)\n",
    "        self.d = tf.constant(dict)\n",
    "        self.k_bandw = 1/(6*(np.power(step,2)))\n",
    "        \n",
    "\n",
    "    def build(self, input_shape):\n",
    "        \n",
    "        print(input_shape)\n",
    "        # Mixing coefficients sampled from a normal dist\n",
    "        #self.a = self.add_weight(shape=(input_shape[-1], self.D), \n",
    "        #                         initializer= 'random_normal',\n",
    "        #                         trainable=True)\n",
    "\n",
    "    def call(self, inputs):\n",
    "        \n",
    "        #print(self.a)\n",
    "        #y = []\n",
    "        #for i in range (0, inputs.shape[0]): # for each input unit\n",
    "        #    y_i = []\n",
    "        #    for j in range (0, tf.size(inputs[i])): # apply the activation function element-wise for each neuron\n",
    "        #        y_i.append(tf.reduce_sum(self.a[j] * gaussianKer1D(inputs[i][j], self.d, self.k_bandw)))\n",
    "        #    y.append(y_i)                \n",
    "        #\n",
    "        #y = tf.stack(y) # convert back to a tensor\n",
    "        #print(y)\n",
    "        #print(x)\n",
    "        #return y "
   ]
  },
  {
   "cell_type": "code",
   "execution_count": 126,
   "metadata": {},
   "outputs": [
    {
     "output_type": "stream",
     "name": "stdout",
     "text": "tf.Tensor(1, shape=(), dtype=int32)\n<tf.Variable 'kaf_55/Variable:0' shape=(4, 20) dtype=float32, numpy=\narray([[ 0.01689988, -0.00806069,  0.10421381, -0.02961117, -0.00608115,\n         0.0317506 , -0.0165346 , -0.02313367, -0.02285305,  0.06128451,\n        -0.09191964,  0.01569757,  0.03711598, -0.08986508, -0.03955432,\n         0.02846296,  0.0047694 , -0.00418693, -0.023147  ,  0.04940532],\n       [ 0.0067636 ,  0.05084299, -0.06556311, -0.0810833 ,  0.00482153,\n        -0.06822176,  0.01916341, -0.02562395, -0.01808073,  0.07672176,\n         0.10020856, -0.02022963,  0.05048233, -0.02456616, -0.02723691,\n         0.05990466,  0.06356709, -0.00389831, -0.01109615, -0.06248103],\n       [ 0.02697686, -0.04271223,  0.01108009, -0.0538299 , -0.04903933,\n         0.00467208,  0.08219342,  0.04768388,  0.0753132 ,  0.01165142,\n        -0.02349227,  0.0356625 ,  0.01038878, -0.00186831,  0.01987037,\n        -0.03740392, -0.09807961, -0.01099442, -0.10152217, -0.03915821],\n       [ 0.02572362,  0.03497338, -0.04422098, -0.03389091, -0.06887238,\n        -0.00915488,  0.03136421, -0.07779032, -0.00112289, -0.01504208,\n        -0.05558022, -0.02953047,  0.01764688,  0.01411768,  0.00329554,\n        -0.07763692,  0.07061906,  0.0381544 , -0.02446233, -0.01423222]],\n      dtype=float32)>\n"
    }
   ],
   "source": [
    "x = tf.random.uniform(shape = (4,), minval=-20, maxval=40, dtype=tf.float32)\n",
    "\n",
    "print(tf.size(x[1]))\n",
    "\n",
    "kaf = Kaf(20)\n",
    "#\n",
    "kaf(x)"
   ]
  },
  {
   "cell_type": "code",
   "execution_count": null,
   "metadata": {},
   "outputs": [],
   "source": []
  },
  {
   "cell_type": "code",
   "execution_count": null,
   "metadata": {},
   "outputs": [],
   "source": []
  }
 ]
}